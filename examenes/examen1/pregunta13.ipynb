{
 "cells": [
  {
   "cell_type": "code",
   "execution_count": 1,
   "metadata": {},
   "outputs": [],
   "source": [
    "import numpy as np\n",
    "import yfinance as yf\n",
    "import pandas as pd\n",
    "import matplotlib.pyplot as plt"
   ]
  },
  {
   "cell_type": "code",
   "execution_count": 2,
   "metadata": {},
   "outputs": [
    {
     "name": "stdout",
     "output_type": "stream",
     "text": [
      "YF.download() has changed argument auto_adjust default to True\n"
     ]
    },
    {
     "name": "stderr",
     "output_type": "stream",
     "text": [
      "[*********************100%***********************]  2 of 2 completed\n"
     ]
    },
    {
     "data": {
      "text/html": [
       "<div>\n",
       "<style scoped>\n",
       "    .dataframe tbody tr th:only-of-type {\n",
       "        vertical-align: middle;\n",
       "    }\n",
       "\n",
       "    .dataframe tbody tr th {\n",
       "        vertical-align: top;\n",
       "    }\n",
       "\n",
       "    .dataframe thead th {\n",
       "        text-align: right;\n",
       "    }\n",
       "</style>\n",
       "<table border=\"1\" class=\"dataframe\">\n",
       "  <thead>\n",
       "    <tr style=\"text-align: right;\">\n",
       "      <th>Ticker</th>\n",
       "      <th>MA</th>\n",
       "      <th>PEP</th>\n",
       "    </tr>\n",
       "    <tr>\n",
       "      <th>Date</th>\n",
       "      <th></th>\n",
       "      <th></th>\n",
       "    </tr>\n",
       "  </thead>\n",
       "  <tbody>\n",
       "    <tr>\n",
       "      <th>2022-03-10</th>\n",
       "      <td>318.846191</td>\n",
       "      <td>142.677536</td>\n",
       "    </tr>\n",
       "    <tr>\n",
       "      <th>2022-03-11</th>\n",
       "      <td>319.042633</td>\n",
       "      <td>141.957291</td>\n",
       "    </tr>\n",
       "    <tr>\n",
       "      <th>2022-03-14</th>\n",
       "      <td>322.775391</td>\n",
       "      <td>143.951889</td>\n",
       "    </tr>\n",
       "    <tr>\n",
       "      <th>2022-03-15</th>\n",
       "      <td>329.071960</td>\n",
       "      <td>146.823730</td>\n",
       "    </tr>\n",
       "    <tr>\n",
       "      <th>2022-03-16</th>\n",
       "      <td>338.580658</td>\n",
       "      <td>147.470139</td>\n",
       "    </tr>\n",
       "  </tbody>\n",
       "</table>\n",
       "</div>"
      ],
      "text/plain": [
       "Ticker              MA         PEP\n",
       "Date                              \n",
       "2022-03-10  318.846191  142.677536\n",
       "2022-03-11  319.042633  141.957291\n",
       "2022-03-14  322.775391  143.951889\n",
       "2022-03-15  329.071960  146.823730\n",
       "2022-03-16  338.580658  147.470139"
      ]
     },
     "execution_count": 2,
     "metadata": {},
     "output_type": "execute_result"
    }
   ],
   "source": [
    "tickers = ['MA', 'PEP']\n",
    "closes = yf.download(tickers, start='2022-03-10', end='2025-03-10')['Close']\n",
    "closes.head()"
   ]
  },
  {
   "cell_type": "markdown",
   "metadata": {},
   "source": [
    "# a. Calcula los rendimientos medios diarios por acción e interprétalos 5pt."
   ]
  },
  {
   "cell_type": "code",
   "execution_count": 3,
   "metadata": {},
   "outputs": [
    {
     "data": {
      "text/plain": [
       "Ticker\n",
       "MA     0.081236\n",
       "PEP    0.016617\n",
       "dtype: float64"
      ]
     },
     "execution_count": 3,
     "metadata": {},
     "output_type": "execute_result"
    }
   ],
   "source": [
    "ret = closes.pct_change().dropna()\n",
    "ret.mean()*100"
   ]
  },
  {
   "cell_type": "markdown",
   "metadata": {},
   "source": [
    "### Interpretación:\n",
    "\n",
    "+ Los rendimientos indican que en promedio Mastercard incrementa un 0.0812% su precio y Pepsi un 0.0167.\n",
    "+ Además, al ser positivos podemos intuir que la tendencia de ambos va hacia la alza."
   ]
  },
  {
   "cell_type": "markdown",
   "metadata": {},
   "source": [
    "# b. Calcula la matriz de covarianza de los rendimientos e interprétala 5 pt."
   ]
  },
  {
   "cell_type": "code",
   "execution_count": 4,
   "metadata": {},
   "outputs": [
    {
     "data": {
      "text/html": [
       "<div>\n",
       "<style scoped>\n",
       "    .dataframe tbody tr th:only-of-type {\n",
       "        vertical-align: middle;\n",
       "    }\n",
       "\n",
       "    .dataframe tbody tr th {\n",
       "        vertical-align: top;\n",
       "    }\n",
       "\n",
       "    .dataframe thead th {\n",
       "        text-align: right;\n",
       "    }\n",
       "</style>\n",
       "<table border=\"1\" class=\"dataframe\">\n",
       "  <thead>\n",
       "    <tr style=\"text-align: right;\">\n",
       "      <th>Ticker</th>\n",
       "      <th>MA</th>\n",
       "      <th>PEP</th>\n",
       "    </tr>\n",
       "    <tr>\n",
       "      <th>Ticker</th>\n",
       "      <th></th>\n",
       "      <th></th>\n",
       "    </tr>\n",
       "  </thead>\n",
       "  <tbody>\n",
       "    <tr>\n",
       "      <th>MA</th>\n",
       "      <td>0.000186</td>\n",
       "      <td>0.000053</td>\n",
       "    </tr>\n",
       "    <tr>\n",
       "      <th>PEP</th>\n",
       "      <td>0.000053</td>\n",
       "      <td>0.000121</td>\n",
       "    </tr>\n",
       "  </tbody>\n",
       "</table>\n",
       "</div>"
      ],
      "text/plain": [
       "Ticker        MA       PEP\n",
       "Ticker                    \n",
       "MA      0.000186  0.000053\n",
       "PEP     0.000053  0.000121"
      ]
     },
     "execution_count": 4,
     "metadata": {},
     "output_type": "execute_result"
    }
   ],
   "source": [
    "cov = ret.cov()\n",
    "cov"
   ]
  },
  {
   "cell_type": "markdown",
   "metadata": {},
   "source": [
    "### Interpretación:\n",
    "\n",
    "+ Numéricamente la matriz de covarianza es complicada de interpretar, sin embargo, nos sirve para ver el signo y darnos cuenta si los activos están correlacionados positiva o negativamente.\n",
    "\n",
    "+ En este caso, están correlacionados positivamente."
   ]
  },
  {
   "cell_type": "markdown",
   "metadata": {},
   "source": [
    "# c. Estima mil escenarios del valor final del portafolio 30 días después y obtén los valores del portafolio en el peor y en el mejor resultado de tu simulación. 5 pt."
   ]
  },
  {
   "cell_type": "code",
   "execution_count": 5,
   "metadata": {},
   "outputs": [
    {
     "name": "stdout",
     "output_type": "stream",
     "text": [
      "Peor caso: $8311.37\n",
      "Mejor caso: $12083.15\n"
     ]
    }
   ],
   "source": [
    "returns = closes.pct_change().dropna()\n",
    "\n",
    "mean_returns = returns.mean()\n",
    "cov_matrix = returns.cov()\n",
    "\n",
    "def simular_precios(mean_returns, matriz_cov, num_dias, N, weights, initial_value):\n",
    "    portfolio_return = mean_returns.dot(weights)\n",
    "\n",
    "    portfolio_simulated_returns = np.zeros((num_dias, N))\n",
    "    mean_returns_vector = np.full((num_dias, len(mean_returns)), portfolio_return)\n",
    "\n",
    "    for m in range(N):\n",
    "        L = np.linalg.cholesky(matriz_cov)\n",
    "        Z = np.random.normal(size=(num_dias, len(mean_returns)))  # Matriz de n_dias x num activos\n",
    "\n",
    "        daily_returns = mean_returns_vector + L.dot(Z.T).T\n",
    "        portfolio_simulated_returns[:, m] = np.cumprod(1 + np.dot(daily_returns, weights)) - 1\n",
    "\n",
    "    portfolio_values = initial_value * (1 + portfolio_simulated_returns)\n",
    "    return portfolio_simulated_returns, portfolio_values\n",
    "\n",
    "weights = np.array([0.5, 0.5])\n",
    "num_dias = 30 \n",
    "N = 1000 \n",
    "initial_value = 10000 \n",
    "\n",
    "portfolio_simulated_returns, portfolio_values = simular_precios(mean_returns, cov_matrix, num_dias, N, weights, initial_value)\n",
    "\n",
    "valores_finales = portfolio_values[-1, :]\n",
    "\n",
    "peor = valores_finales.min()\n",
    "mejor = valores_finales.max()\n",
    "\n",
    "print(f\"Peor caso: ${peor:.2f}\")\n",
    "print(f\"Mejor caso: ${mejor:.2f}\")"
   ]
  },
  {
   "cell_type": "markdown",
   "metadata": {},
   "source": [
    "# d. Estima el Value at Risk (VaR) a 30 días al 1% para el portafolio especificado e interpreta el VaR resultante. 10 pt\n"
   ]
  },
  {
   "cell_type": "code",
   "execution_count": 6,
   "metadata": {},
   "outputs": [
    {
     "data": {
      "text/plain": [
       "8949.877647095007"
      ]
     },
     "execution_count": 6,
     "metadata": {},
     "output_type": "execute_result"
    }
   ],
   "source": [
    "var = np.percentile(valores_finales, 1)\n",
    "var"
   ]
  },
  {
   "cell_type": "markdown",
   "metadata": {},
   "source": [
    "El VaR obtenido significa que la máxima pérdida esperada de nuestro portafolio dentro de 30 días es de 8803.53"
   ]
  },
  {
   "cell_type": "markdown",
   "metadata": {},
   "source": [
    "# e. Haz un histograma con los 1000 valores finales del portafolio (los 1000 valores en el día 30). 10 pts. Carga el código utilizado con las preguntas contestadas"
   ]
  },
  {
   "cell_type": "code",
   "execution_count": 7,
   "metadata": {},
   "outputs": [
    {
     "data": {
      "image/png": "[encoded data removed]",
      "text/plain": [
       "<Figure size 1000x600 with 1 Axes>"
      ]
     },
     "metadata": {},
     "output_type": "display_data"
    }
   ],
   "source": [
    "plt.figure(figsize=(10, 6))\n",
    "plt.title('Histograma de valores finales', fontsize=18)\n",
    "plt.hist(valores_finales, bins=30)\n",
    "plt.grid()\n",
    "plt.show()"
   ]
  }
 ],
 "metadata": {
  "kernelspec": {
   "display_name": "Python 3",
   "language": "python",
   "name": "python3"
  },
  "language_info": {
   "codemirror_mode": {
    "name": "ipython",
    "version": 3
   },
   "file_extension": ".py",
   "mimetype": "text/x-python",
   "name": "python",
   "nbconvert_exporter": "python",
   "pygments_lexer": "ipython3",
   "version": "3.11.3"
  }
 },
 "nbformat": 4,
 "nbformat_minor": 2
}
