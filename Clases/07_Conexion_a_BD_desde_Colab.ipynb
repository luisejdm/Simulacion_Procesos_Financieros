{
  "cells": [
    {
      "cell_type": "code",
      "execution_count": 2,
      "metadata": {
        "colab": {
          "base_uri": "https://localhost:8080/"
        },
        "id": "ZpYlUOfMJbT1",
        "outputId": "4db85bc5-87a1-45a1-dfd6-c7c74451c4d7"
      },
      "outputs": [
        {
          "name": "stdout",
          "output_type": "stream",
          "text": [
            "Conexión exitosa\n",
            "(0, '2024-10-07', 224.5, 225.69, 221.335, 221.69, 39163132, 'AAPL')\n",
            "(1, '2024-10-04', 227.9, 228.0, 224.13, 226.8, 37345098, 'AAPL')\n",
            "(2, '2024-10-03', 225.14, 226.805, 223.32, 225.67, 34044158, 'AAPL')\n",
            "(3, '2024-10-02', 225.89, 227.37, 223.02, 226.78, 32880605, 'AAPL')\n",
            "(4, '2024-10-01', 229.52, 229.65, 223.74, 226.21, 63285048, 'AAPL')\n"
          ]
        }
      ],
      "source": [
        "import pyodbc\n",
        "\n",
        "server = 'tcp:simmlvdf.database.windows.net,1433;'\n",
        "database = 'SimLVDF'\n",
        "username = 'SimMatStd'\n",
        "password = 'SimMatStudent!'\n",
        "\n",
        "conn_str = f'DRIVER={{ODBC Driver 18 for SQL Server}};SERVER={server};DATABASE={database};UID={username};PWD={password}'\n",
        "\n",
        "try:\n",
        "    conn = pyodbc.connect(conn_str)\n",
        "    cursor = conn.cursor()\n",
        "    print(\"Conexión exitosa\")\n",
        "\n",
        "    cursor.execute(\"SELECT TOP 5 * FROM StockPrices\")\n",
        "    for row in cursor.fetchall():\n",
        "        print(row)\n",
        "\n",
        "    # Cerrar conexión\n",
        "    cursor.close()\n",
        "    conn.close()\n",
        "\n",
        "except pyodbc.Error as e:\n",
        "    print(\"Error en la conexión:\", e)\n"
      ]
    },
    {
      "cell_type": "code",
      "execution_count": 3,
      "metadata": {
        "colab": {
          "base_uri": "https://localhost:8080/"
        },
        "id": "8jYvjfvYJ5HZ",
        "outputId": "6b3514e3-b1b1-46da-df4e-1f92834051fa"
      },
      "outputs": [
        {
          "name": "stdout",
          "output_type": "stream",
          "text": [
            "Conexión exitosa a la base de datos.\n",
            "Datos guardados en 'StockPrices.csv' y 'StockPrices.xlsx'.\n"
          ]
        }
      ],
      "source": [
        "import pyodbc\n",
        "import pandas as pd\n",
        "\n",
        "\n",
        "# Configuración de la conexión\n",
        "server = \"tcp:simmlvdf.database.windows.net,1433\"\n",
        "database = \"SimLVDF\"\n",
        "username = \"SimMatStd\"\n",
        "password = \"SimMatStudent!\"  # Reemplaza con la contraseña real\n",
        "# Crear la cadena de conexión para pyodbc\n",
        "conn_str = f\"DRIVER={{ODBC Driver 18 for SQL Server}};SERVER={server};DATABASE={database};UID={username};PWD={password};Encrypt=yes;TrustServerCertificate=no;Connection Timeout=30;\"\n",
        "# Conectar a la base de datos\n",
        "try:\n",
        "    conn = pyodbc.connect(conn_str)\n",
        "    cursor = conn.cursor()\n",
        "    print(\"Conexión exitosa a la base de datos.\")\n",
        "    # Ejecutar consulta\n",
        "    query = \"SELECT TOP 5 * FROM StockPrices\"\n",
        "    cursor.execute(query)\n",
        "\n",
        "    # Obtener nombres de las columnas\n",
        "    columns = [column[0] for column in cursor.description]\n",
        "\n",
        "    # Guardar resultados en una lista de tuplas\n",
        "    data = [list(row) for row in cursor.fetchall()]\n",
        "\n",
        "    # Convertir a DataFrame\n",
        "    df = pd.DataFrame(data, columns=columns)\n",
        "\n",
        "    # Guardar en CSV\n",
        "    df.to_csv(\"StockPrices.csv\", index=False)\n",
        "\n",
        "    # Guardar en Excel\n",
        "    df.to_excel(\"StockPrices.xlsx\", index=False)\n",
        "\n",
        "    print(\"Datos guardados en 'StockPrices.csv' y 'StockPrices.xlsx'.\")\n",
        "\n",
        "    # Cerrar conexión\n",
        "    cursor.close()\n",
        "    conn.close()\n",
        "\n",
        "except Exception as e:\n",
        "    print(\"Error en la conexión:\", e)"
      ]
    }
  ],
  "metadata": {
    "colab": {
      "provenance": []
    },
    "kernelspec": {
      "display_name": "Python 3",
      "name": "python3"
    },
    "language_info": {
      "codemirror_mode": {
        "name": "ipython",
        "version": 3
      },
      "file_extension": ".py",
      "mimetype": "text/x-python",
      "name": "python",
      "nbconvert_exporter": "python",
      "pygments_lexer": "ipython3",
      "version": "3.11.3"
    }
  },
  "nbformat": 4,
  "nbformat_minor": 0
}
