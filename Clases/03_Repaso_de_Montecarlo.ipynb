{
  "cells": [
    {
      "cell_type": "markdown",
      "metadata": {
        "id": "gBVclzamkdof"
      },
      "source": [
        "## Simulación de Montecarlo\n",
        "\n",
        "- Aplicar simulación de Montecarlo a procesos matemáticos a manera de repaso a simulación matemática.\n",
        "\n",
        "- 29 de Enero 2025\n"
      ]
    },
    {
      "cell_type": "markdown",
      "metadata": {
        "id": "oGETEhFIksn8"
      },
      "source": [
        "El método tiene 4 pasos:\n",
        "- Definir un dominio de posibles entradas de la variable aleatoria\n",
        "- Generas muestreos aleatorios a partir de una distribución de probabilidad\n",
        "- Realizas cálculo determinista a partir de las muestras aleatorias\n",
        "- Agregar los resultados para llegar a una estimación puntual\n",
        "\n"
      ]
    },
    {
      "cell_type": "markdown",
      "metadata": {
        "id": "JVh3zYlBka8k"
      },
      "source": [
        "## Ejemplos"
      ]
    },
    {
      "cell_type": "code",
      "execution_count": 2,
      "metadata": {},
      "outputs": [],
      "source": [
        "import numpy as np\n",
        "import matplotlib.pyplot as plt\n",
        "%matplotlib inline"
      ]
    },
    {
      "cell_type": "markdown",
      "metadata": {},
      "source": [
        "### Calculadora de integrales definida"
      ]
    },
    {
      "cell_type": "code",
      "execution_count": 3,
      "metadata": {},
      "outputs": [
        {
          "data": {
            "text/plain": [
              "39.0024"
            ]
          },
          "execution_count": 3,
          "metadata": {},
          "output_type": "execute_result"
        }
      ],
      "source": [
        "def funcion_a_integrar(x):\n",
        "    return x**2\n",
        "\n",
        "a = 2\n",
        "b = 5\n",
        "N = 10000000\n",
        "\n",
        "x = np.random.uniform(a, b, N)\n",
        "y = np.random.uniform(0, funcion_a_integrar(b), N)\n",
        "\n",
        "n_bajo_curva = np.sum(y < funcion_a_integrar(x))\n",
        "respuesta_integral = (b-a) * funcion_a_integrar(b) * n_bajo_curva / N\n",
        "respuesta_integral"
      ]
    },
    {
      "cell_type": "code",
      "execution_count": 4,
      "metadata": {},
      "outputs": [
        {
          "data": {
            "text/plain": [
              "42.0"
            ]
          },
          "execution_count": 4,
          "metadata": {},
          "output_type": "execute_result"
        }
      ],
      "source": [
        "def funcion_a_integrar(x):\n",
        "    return x**2\n",
        "\n",
        "def integral_definida(a, b, N):\n",
        "    x = np.random.uniform(a, b, N)\n",
        "    y = np.random.uniform(0, funcion_a_integrar(b), N)\n",
        "    n_bajo_curva = np.sum(y < funcion_a_integrar(x))\n",
        "    respuesta_integral = (b-a) * funcion_a_integrar(b) * n_bajo_curva / N\n",
        "    return respuesta_integral\n",
        "\n",
        "integral_definida(2, 5, 100)"
      ]
    }
  ],
  "metadata": {
    "colab": {
      "provenance": []
    },
    "kernelspec": {
      "display_name": "Python 3",
      "name": "python3"
    },
    "language_info": {
      "codemirror_mode": {
        "name": "ipython",
        "version": 3
      },
      "file_extension": ".py",
      "mimetype": "text/x-python",
      "name": "python",
      "nbconvert_exporter": "python",
      "pygments_lexer": "ipython3",
      "version": "3.11.3"
    }
  },
  "nbformat": 4,
  "nbformat_minor": 0
}
