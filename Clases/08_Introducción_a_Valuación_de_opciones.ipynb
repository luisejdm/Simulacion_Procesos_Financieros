{
  "cells": [
    {
      "cell_type": "markdown",
      "id": "78b7b816",
      "metadata": {
        "id": "78b7b816"
      },
      "source": [
        "## Valuación de opciones con Montecarlo"
      ]
    },
    {
      "cell_type": "markdown",
      "id": "0e54ea08",
      "metadata": {
        "id": "0e54ea08"
      },
      "source": [
        "Una aplicación de extrema importancia de la simulación de Montecarlo es la valuación de opciones.\n",
        "\n",
        "### 1) Derivados\n",
        "\n",
        "Comencemos definiendo qué es un **derivado**: es un instrumento financiero cuyo valor se deriva del valor de otro activo subyacente, como una acción, un índice, una divisa o una materia prima. **Los derivados son productos financieros que se utilizan para cubrir el riesgo de fluctuaciones de precios o para especular en el mercado.**\n",
        "\n",
        "#### 1.1) **Tipos de derivados**\n",
        "\n",
        "Aunque existen muchas clasificaciones para los derivados (_derivatives_), las más comunes son:\n",
        "\n",
        "- **Contratos de futuros (_futures_) :** Los contratos de futuros son acuerdos estandarizados para comprar o vender un activo subyacente en una fecha específica en el futuro, a un precio acordado en el momento de la negociación.\n",
        "\n",
        "    <details>\n",
        "    <summary> Pequeño cuento (Ver más...) </summary>\n",
        "    <div style=\"font-size: 0.8em;\">\n",
        "    \n",
        "    Había una vez un granjero llamado Juan que cultivaba maíz. Juan sabía que el precio del maíz podía variar mucho de un año a otro y esto afectaría a sus ganancias. Un día, un amigo de Juan le habló sobre los contratos de futuros de maíz.\n",
        "    \n",
        "    Los contratos de futuros permiten a los agricultores fijar un precio para su cosecha antes de cosecharla. Juan decidió probar los contratos de futuros y acordó vender su cosecha a un precio fijo acordado de antemano. Aunque el precio del maíz bajó en el futuro, Juan todavía recibió el precio acordado en su contrato de futuros, lo que le permitió proteger sus ganancias.\n",
        "    \n",
        "    Juan se dio cuenta de que los contratos de futuros le ayudaron a minimizar el riesgo de fluctuaciones de precios en su negocio de agricultura y le permitió planificar mejor su futuro financiero. Ahora, cada año, Juan utiliza contratos de futuros para asegurar su cosecha y mantener sus ganancias estables.\n",
        "    </div>\n",
        "    </details>\n",
        "\n",
        "\n",
        "- **Swaps:** Los swaps son contratos entre dos partes para intercambiar flujos de efectivo futuros, basados en diferentes variables financieras, como tasas de interés o tipos de cambio.\n",
        "\n",
        "    <details>\n",
        "    <summary> Pequeño cuento (Ver más...) </summary>\n",
        "    <div style=\"font-size: 0.8em;\">\n",
        "\n",
        "    Había una vez un pequeño empresario llamado Roberto que tenía una tienda de electrónica en el centro de la ciudad. Roberto estaba preocupado por la volatilidad del tipo de cambio, ya que importaba muchos productos electrónicos de otros países.\n",
        "\n",
        "    Un día, su asesor financiero le habló sobre los swaps de divisas. Le explicó que un swap de divisas es un acuerdo entre dos partes para intercambiar flujos de efectivo basados en diferentes tipos de cambio. En el caso de Roberto, podría intercambiar sus ingresos en dólares por una cantidad fija de moneda local con otra parte que estuviera dispuesta a hacer el intercambio.\n",
        "\n",
        "    Roberto decidió probar los swaps de divisas y encontró una contraparte que estaba dispuesta a hacer el intercambio. Ahora, Roberto podía fijar una tasa de cambio para sus ingresos en dólares, lo que le permitía planificar mejor sus gastos y ganancias en el largo plazo sin preocuparse por las fluctuaciones en el tipo de cambio.\n",
        "\n",
        "    En su próximo viaje al extranjero, Roberto acordó comprar una gran cantidad de productos electrónicos en una moneda extranjera con su contraparte. A cambio, su contraparte le pagaría la misma cantidad en moneda local a la tasa de cambio fija acordada.\n",
        "\n",
        "    </div>\n",
        "    </details>\n",
        "\n",
        "- **Opciones:** Explicadas a detalle a continuación\n",
        "\n",
        "Adicionalmente existen otros tipos famosos como _Forwards_, _Mortgage-backed security_ (MBS), _Collateralized debt obligation_ (CDO).\n",
        "\n",
        "### 2) Opciones\n",
        "\n",
        "Una **opción es un tipo de derivado** que otorga al comprador el derecho, pero no la obligación, de comprar o vender un activo subyacente a un precio acordado en una fecha específica o antes de ella.\n",
        "\n",
        "El comprador de una opción paga una prima al vendedor de la opción por el derecho a comprar o vender el activo subyacente a un precio determinado. El vendedor de la opción, a su vez, está obligado a comprar o vender el activo subyacente al precio establecido si el comprador decide ejercer su derecho.\n",
        "\n",
        "#### Tipos de opciones\n",
        "\n",
        "Existen dos tipos básicos de opciones:\n",
        "\n",
        "- **Opción de compra (_call option_):**\n",
        "    \n",
        "    Otorga al comprador el derecho, pero no la obligación, de comprar el activo subyacente a un precio determinado en o antes de una fecha específica. Si el precio del activo subyacente aumenta por encima del precio de ejercicio, el comprador puede ejercer la opción y comprar el activo subyacente al precio más bajo.\n",
        "    \n",
        "    \n",
        "- **Opción de venta (_put option_):**\n",
        "    \n",
        "    Otorga al comprador el derecho, pero no la obligación, de vender el activo subyacente a un precio determinado en o antes de una fecha específica. Si el precio del activo subyacente cae por debajo del precio de ejercicio, el comprador puede ejercer la opción y vender el activo subyacente al precio más alto.\n"
      ]
    },
    {
      "cell_type": "markdown",
      "id": "374c1918",
      "metadata": {
        "id": "374c1918"
      },
      "source": [
        "Las posiciones pueden ser confusas, para resumir:\n",
        "\n",
        "- Comprador de una opción call: el derecho a comprar un activo a un precio strike\n",
        "- Vendedor de una opción call: la obligación de vender un activo a un precio strike\n",
        "\n",
        "\n",
        "- Comprador de una opción put: el derecho a vender un activo a un precio strike\n",
        "- Vendedor de una opción put: la obligación de comprar un activo a un precio strike"
      ]
    },
    {
      "cell_type": "markdown",
      "id": "1f2a69e4",
      "metadata": {
        "id": "1f2a69e4"
      },
      "source": [
        "Comprar una opción tiene un precio, llamado la **prima** (_premium_) de la opción. Comprender cómo valorar esa prima es crucial para negociar opciones. Los compradores de una opción pagan la prima, y los vendedores de una opción reciben la prima."
      ]
    },
    {
      "cell_type": "markdown",
      "id": "585b421c",
      "metadata": {
        "id": "585b421c"
      },
      "source": [
        "#### Estilos de opciones\n",
        "\n",
        "Las siguientes nomenclaturas no tienen nada que ver con la geografía, solo es terminología.\n",
        "\n",
        "- **Opciones americanas:** Estas opciones otorgan al comprador el derecho de ejercer la opción en cualquier momento antes de la fecha de vencimiento. El comprador de la opción puede optar por ejercerla en cualquier momento si considera que el precio del activo subyacente ha alcanzado el nivel deseado. Estas opciones son más flexibles que las opciones europeas y suelen tener un precio más alto debido a su flexibilidad.\n",
        "\n",
        "\n",
        "- **Opciones europeas:** Estas opciones solo pueden ser ejercidas en la fecha de vencimiento. No tienen la misma flexibilidad que las opciones americanas, pero suelen ser más baratas.\n",
        "\n",
        "Los dos estilos anteriores suelen denominarse _vanilla options_. Otros tipos son:\n",
        "\n",
        "\n",
        "- **Opciones asiáticas:** Son un tipo de opción en el que el pago depende del precio promedio del activo subyacente durante un cierto período de tiempo, a diferencia de las opciones americanas y europeas en las que el pago depende del precio del activo subyacente en un momento específico en el tiempo (vencimiento). Estas opciones permiten al comprador comprar (o vender) el activo subyacente al precio promedio en lugar del precio de mercado.\n",
        "\n",
        "\n",
        "- **Opciones de Bermudas**: Una opción de Bermudas es un tipo de opción que se puede ejercer en fechas específicas, a diferencia de las opciones europeas que solo se pueden ejercer en una fecha específica. En otras palabras, las opciones Bermudan tienen múltiples fechas de ejercicio en un período específico, lo que las hace más flexibles que las opciones europeas, pero menos flexibles que las opciones americanas, que se pueden ejercer en cualquier momento antes de la fecha de vencimiento.\n",
        "\n",
        "\n",
        "- **Opciones Barrera**: Una opción barrera es una opción que tiene un precio de ejercicio específico que, si se alcanza, activa o desactiva la opción. Por ejemplo, una opción de barrera de \"toque\" se activa si el precio del activo subyacente toca un precio de barrera específico. Una opción de barrera de \"no toque\" se desactiva si el precio del activo subyacente toca un precio de barrera específico.\n",
        "\n",
        "\n",
        "- **Opciones Binarias**: Una opción binaria es una opción en la que el pago es una cantidad fija o nada en absoluto. Es decir, si la opción está \"en el dinero\" (es decir, si se cumple la condición de pago), el titular de la opción recibe una cantidad fija, y si está \"fuera del dinero\", no recibe nada.\n",
        "\n",
        "\n",
        "- **Opciones Exóticas**: Las opciones exóticas son opciones que tienen características únicas que las hacen diferentes de las opciones más comunes y estándar, como las opciones de compra y venta. Las opciones exóticas pueden tener características como precios de ejercicio variables, fechas de vencimiento flexibles y pagos no lineales. Estas opciones son menos líquidas y menos comunes que las opciones más estándar, lo que puede hacer que su valoración y su negociación sean más complicadas.\n"
      ]
    },
    {
      "cell_type": "markdown",
      "id": "2a00c7be",
      "metadata": {
        "id": "2a00c7be"
      },
      "source": [
        "#### Características del contrato\n",
        "Las opciones tienen asociadas un contrato de opción, estas son especificaciones mínimas que suelen contener:\n",
        "\n",
        "- Si el tenedor de la opción tiene el derecho de comprar (call) o el derecho de vender (put).\n",
        "- La cantidad y clase de activos subyacentes, por ejemplo, 100 acciones de la compañía X.\n",
        "- El precio de ejercicio, también conocido como precio _strike_, que es el precio al cual se llevará a cabo la transacción subyacente al ejercer la opción.\n",
        "- La fecha de vencimiento o de expiración, que es la última fecha en que se puede ejercer la opción.\n",
        "- Los términos de liquidación, por ejemplo, si el emisor debe entregar el activo real en caso de ejercicio, o si simplemente puede ofrecer la cantidad equivalente en efectivo."
      ]
    },
    {
      "cell_type": "markdown",
      "id": "6577f511",
      "metadata": {
        "id": "6577f511"
      },
      "source": [
        "#### Valuación de opciones\n",
        "\n",
        "\n",
        "Para valuar una opción financiera, se utilizan varios modelos, siendo el modelo **Black-Scholes** uno de los más comunes. Este modelo se basa en la idea de que el precio del activo subyacente sigue un proceso aleatorio y se puede representar mediante una ecuación diferencial estocástica.\n",
        "\n",
        "El modelo Black-Scholes utiliza cinco variables principales para calcular el precio teórico de una opción: el precio actual del activo subyacente, el precio de ejercicio de la opción, el tiempo hasta la fecha de vencimiento, la tasa libre de riesgo y la volatilidad del precio del activo subyacente. Esta última variable es especialmente importante, ya que la volatilidad mide la magnitud de los cambios en el precio del activo subyacente y afecta significativamente al precio de la opción.\n",
        "\n",
        "Además del modelo Black-Scholes, existen otros métodos para valuar opciones financieras. A continuación, menciono algunos de los más comunes:\n",
        "\n",
        "- **Modelo binomial**: este método se basa en la idea de que el precio del activo subyacente puede evolucionar de manera discreta en el tiempo, en lugar de seguir un proceso continuo como en el modelo Black-Scholes. Este método utiliza árboles binomiales para modelar el comportamiento del precio del activo subyacente y calcula el valor de la opción en cada nodo del árbol.\n",
        "\n",
        "- **Método de Montecarlo**: este método utiliza simulaciones para generar múltiples trayectorias aleatorias del precio del activo subyacente y, a partir de ellas, se calcula el valor de la opción. Este método es útil cuando el modelo Black-Scholes no es aplicable debido a la complejidad del activo subyacente o cuando se requiere tener en cuenta factores adicionales que no se incluyen en el modelo Black-Scholes, como saltos en los precios o correlaciones entre distintos activos."
      ]
    },
    {
      "cell_type": "markdown",
      "id": "b90a00c7",
      "metadata": {
        "id": "b90a00c7"
      },
      "source": [
        "#### Conceptos útiles para la valuación\n",
        "\n",
        "##### Valor intrínseco\n",
        "El **valor intrínseco** es el valor que tendría una opción si se ejerciera hoy. Se refiere a la diferencia entre el precio de ejercicio de una opción y el precio actual de la acción subyacente. El valor intrínseco no considera el tiempo restante hasta el vencimiento de la opción.\n",
        "\n",
        "\n",
        "$$\\text{Valor intrínseco de la opción de compra} = Max(Precio_{Sub} - Precio_{Strike},0)$$\n",
        "\n",
        "- Sub: Es el precio actual del activo subyacente\n",
        "- Strike:  Es el precio de ejercicio de la opción de compra\n",
        "\n",
        "\n",
        "$$\\text{Valor intrínseco de la opción de venta} = Max(Precio_{Strike} - Precio_{Sub},0)$$\n",
        "\n",
        "- Strike:  Es el precio de ejercicio de la opción de venta\n",
        "- Sub: Es el precio actual de la acción subyacente\n",
        "\n",
        "**Un valor intrínseco positivo indica que a día de hoy sería ventajoso ejercer la opción.**\n",
        "\n",
        "Si el valor calculado es negativo, el valor intrínseco es cero. En otras palabras, el valor intrínseco solo mide la ganancia determinada por la diferencia entre el precio de ejercicio de la opción y el precio de mercado del activo subyacente.\n",
        "\n",
        "En función del valor intrínseco, se puede decir que:\n",
        "\n",
        "- **In the Money (ITM)**: Una opción está \"in the money\" cuando tiene valor intrínseco positivo, es decir, si se ejerciera en ese momento, generaría una ganancia.\n",
        "- **At the Money (ATM)**: Una opción está \"at the money\" cuando su precio de ejercicio es igual al precio actual del activo subyacente, por lo que no tiene valor intrínseco.\n",
        "- **Out of the Money (OTM)**: Una opción está \"out of the money\" cuando su precio de ejercicio es mayor que el precio actual del activo subyacente, lo que significa que no tiene valor intrínseco y solo tiene valor extrínseco o de tiempo.\n",
        "\n",
        "**Ejemplo**\n",
        "\n",
        "Supongamos que las acciones de `Pfizer Inc. (PFE)` tienen un precio de mercado de 42.50 por acción.\n",
        "\n",
        "Si el precio strike de una opción call de `PFE` es de 40: entonces la opción tiene un valor intrínseco de 2.50 (42.50 - 40 = 2.50). Ya que si el tenedor de la opción ejerciera su derecho a comprar las acciones de `PFE` a 40, podría inmediatamente venderlas en el mercado por 42.50 para obtener una ganancia de 2.50.\n",
        "\n",
        "Si el precio strike de una opción call de `PFE` fuera de 45: la opción no tendría valor intrínseco, ya que el tenedor de la opción no ganaría nada si comprara las acciones de PFE a 45 y las vendiera en el mercado por 42.50."
      ]
    },
    {
      "cell_type": "markdown",
      "id": "9eafc857",
      "metadata": {
        "id": "9eafc857"
      },
      "source": [
        "##### Valor temporal\n",
        "\n",
        "El valor temporal de una opción es el componente del precio de una opción que refleja la posibilidad de que el precio del activo subyacente se mueva en la dirección deseada antes del vencimiento de la opción.\n",
        "\n",
        "En otras palabras, el valor temporal es el costo que un comprador de opciones paga por la posibilidad de obtener una ganancia si el precio del activo subyacente se mueve en su favor antes del vencimiento de la opción.\n",
        "\n",
        "El valor temporal de una opción disminuye a medida que se acerca el vencimiento de la opción (converge a cero), ya que la probabilidad de que el precio del activo subyacente se mueva en la dirección deseada disminuye con el tiempo. En consecuencia, el valor temporal suele ser mayor en opciones con un plazo de vencimiento más largo.\n",
        "\n",
        "Valor temporal = Prima - ValorIntrinseco\n",
        "\n",
        "Prima  = Valor temporal - ValorIntrinseco\n",
        "\n",
        "\n",
        "**Ejemplo**\n",
        "\n",
        "Supongamos que las acciones de PFE tienen un precio de mercado de 42.50 por acción. Si el precio de ejercicio de una opción de compra de PFE es de 45 y la opción tiene una fecha de vencimiento en un mes, y se está negociando a 1, entonces el valor temporal de la opción es de 0 (1 - 0 = 0). Esto significa que el valor de la opción se compone solo de valor intrínseco de 0.\n",
        "\n",
        "Si el precio de ejercicio es el mismo, pero la opción tiene una fecha de vencimiento en seis meses y se está negociando a 2.50, entonces el valor temporal de la opción sería de 0.50 (2.50 - 2 = 0.50). Esto se debe a que hay una mayor probabilidad de que el precio de las acciones de PFE aumente en los próximos seis meses, lo que aumenta el valor temporal de la opción. Es importante destacar que el valor intrínseco en este caso sigue siendo de 2.50, pero el valor total de la opción es de 3 debido al valor temporal adicional."
      ]
    },
    {
      "cell_type": "code",
      "source": [],
      "metadata": {
        "id": "vF0oNEl_Jxpq"
      },
      "id": "vF0oNEl_Jxpq",
      "execution_count": null,
      "outputs": []
    }
  ],
  "metadata": {
    "kernelspec": {
      "display_name": "Python 3 (ipykernel)",
      "language": "python",
      "name": "python3"
    },
    "language_info": {
      "codemirror_mode": {
        "name": "ipython",
        "version": 3
      },
      "file_extension": ".py",
      "mimetype": "text/x-python",
      "name": "python",
      "nbconvert_exporter": "python",
      "pygments_lexer": "ipython3",
      "version": "3.9.7"
    },
    "colab": {
      "provenance": []
    }
  },
  "nbformat": 4,
  "nbformat_minor": 5
}