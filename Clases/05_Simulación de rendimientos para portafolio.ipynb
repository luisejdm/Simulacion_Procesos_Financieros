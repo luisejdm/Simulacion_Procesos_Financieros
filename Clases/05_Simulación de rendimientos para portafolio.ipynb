{
 "cells": [
  {
   "cell_type": "code",
   "execution_count": 105,
   "metadata": {},
   "outputs": [],
   "source": [
    "import pandas as pd\n",
    "import numpy as np\n",
    "import matplotlib.pyplot as plt\n",
    "import yfinance as yf\n",
    "import datetime as dt\n",
    "\n",
    "np.random.seed(123)"
   ]
  },
  {
   "cell_type": "code",
   "execution_count": 106,
   "metadata": {},
   "outputs": [],
   "source": [
    "def get_data(tickers, start, end):\n",
    "    closes = yf.download(tickers, start=start, end=end, progress=False)['Adj Close']\n",
    "    rt = closes.pct_change().dropna()\n",
    "    mean, cov_m = rt.mean(), rt.cov()\n",
    "    return mean, cov_m, closes"
   ]
  },
  {
   "cell_type": "code",
   "execution_count": 107,
   "metadata": {},
   "outputs": [],
   "source": [
    "def simular_precios(mean_rt, matrix_cov, num_dias, stocks, weights):\n",
    "    \n",
    "    N = 1000\n",
    "\n",
    "    portfolio_return = mean_rt.dot(weights)\n",
    "    \n",
    "    portfolio_simulated_returns = np.full(shape = (num_dias, N), fill_value=0)\n",
    "    mean_rt = np.full(shape=(num_dias, len(stocks)), fill_value=portfolio_return)\n",
    "    \n",
    "    for n in range(N):\n",
    "        L = np.linalg.cholesky(matrix_cov)\n",
    "        Z = np.random.normal(size=(num_dias, len(stocks))) # Matriz de n_dias (filas), num_activos (columnas)\n",
    "\n",
    "        daily_returns = mean_rt.T + L.dot(Z.T)\n",
    "        portfolio_simulated_returns[:, n] = np.cumprod( np.dot(weights, daily_returns) + 1)\n",
    "        \n",
    "        \n",
    "    print('portfolio', portfolio_simulated_returns)"
   ]
  },
  {
   "cell_type": "code",
   "execution_count": 108,
   "metadata": {},
   "outputs": [],
   "source": [
    "tickers = ['AAPL', 'MSFT', 'TSLA', 'F']\n",
    "weights = np.ones(len(tickers)) / len(tickers)\n",
    "\n",
    "mean_rt, cov_m, closes = get_data(tickers, dt.datetime.now() - dt.timedelta(days=365*3), dt.datetime.now())"
   ]
  },
  {
   "cell_type": "code",
   "execution_count": 109,
   "metadata": {},
   "outputs": [
    {
     "name": "stdout",
     "output_type": "stream",
     "text": [
      "portfolio [[0 0 1 ... 0 1 1]\n",
      " [0 0 1 ... 0 1 0]\n",
      " [0 0 1 ... 0 1 0]\n",
      " ...\n",
      " [1 0 1 ... 0 1 0]\n",
      " [1 0 1 ... 0 1 1]\n",
      " [1 0 1 ... 0 1 0]]\n"
     ]
    }
   ],
   "source": [
    "simular_precios(mean_rt, cov_m, 7, tickers, weights)"
   ]
  },
  {
   "cell_type": "code",
   "execution_count": null,
   "metadata": {},
   "outputs": [],
   "source": []
  }
 ],
 "metadata": {
  "kernelspec": {
   "display_name": "Python 3",
   "language": "python",
   "name": "python3"
  },
  "language_info": {
   "codemirror_mode": {
    "name": "ipython",
    "version": 3
   },
   "file_extension": ".py",
   "mimetype": "text/x-python",
   "name": "python",
   "nbconvert_exporter": "python",
   "pygments_lexer": "ipython3",
   "version": "3.11.3"
  }
 },
 "nbformat": 4,
 "nbformat_minor": 2
}
