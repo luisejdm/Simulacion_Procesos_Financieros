{
 "cells": [
  {
   "cell_type": "markdown",
   "metadata": {},
   "source": [
    "- Imagina un círculo inscrito en un cuadrado. El círculo tiene un radio 1 y el cuadrado lado de longitud 2.\n",
    "- Si eliges un punto al azar dentro del cuadrado, la probabilidad de que caiga dentro del círculo es proporcional al área del círculo dividido por el área del cuadrado.\n",
    "- El área del círculo de radio 1 es pi x radio al cuadrado = pi y el área del cuadrado es 4. **Por lo tanto, la proporción de puntos que caen dentro del círculo en relación con el total de puntos dentro del cuadrado se aproxima a pi/4**.\n",
    "\n",
    "### Simulación\n",
    "\n",
    "- Utilizando Python, genera una serie de puntos aleatorios dentro del cuadrado de lado 2.\n",
    "- Cuenta cuántos de estos puntos caen dentro del círculo inscrito.\n",
    "- Utiliza la proporción de puntos que caen dentro del círculo con respecto al total de puntos para estimar pi.\n",
    "\n",
    "### A entregar\n",
    "\n",
    "- Usando Matplotlib, visualiza el cuadrado, el círculo y todos los puntos aleatorios que generaste.\n",
    "- Realiza la simulación con diferentes cantidades de puntos, N (por ejemplo, 10, 100, 1000, 10000, 100000). Muestra tus estimaciones de pi para cada caso y observa cómo la precisión cambia a medida que aumenta N."
   ]
  },
  {
   "cell_type": "code",
   "execution_count": 2,
   "metadata": {},
   "outputs": [],
   "source": [
    "import numpy as np\n",
    "import matplotlib.pyplot as plt"
   ]
  },
  {
   "cell_type": "code",
   "execution_count": 26,
   "metadata": {},
   "outputs": [
    {
     "data": {
      "text/plain": [
       "3.141628"
      ]
     },
     "execution_count": 26,
     "metadata": {},
     "output_type": "execute_result"
    }
   ],
   "source": [
    "a = -1\n",
    "b = 1\n",
    "N = 1000000\n",
    "\n",
    "x = np.random.uniform(a, b, N)\n",
    "y = np.random.uniform(a, b, N)\n",
    "\n",
    "def circulo(x, y):\n",
    "    return x**2 + y**2\n",
    "\n",
    "n_bajo_curva = np.sum(circulo(x, y) < 1)\n",
    "respuesta_integral = (b-a) * circulo(a, b) * n_bajo_curva / N\n",
    "respuesta_integral"
   ]
  },
  {
   "cell_type": "code",
   "execution_count": null,
   "metadata": {},
   "outputs": [],
   "source": []
  }
 ],
 "metadata": {
  "kernelspec": {
   "display_name": "Python 3",
   "language": "python",
   "name": "python3"
  },
  "language_info": {
   "codemirror_mode": {
    "name": "ipython",
    "version": 3
   },
   "file_extension": ".py",
   "mimetype": "text/x-python",
   "name": "python",
   "nbconvert_exporter": "python",
   "pygments_lexer": "ipython3",
   "version": "3.11.3"
  }
 },
 "nbformat": 4,
 "nbformat_minor": 2
}
